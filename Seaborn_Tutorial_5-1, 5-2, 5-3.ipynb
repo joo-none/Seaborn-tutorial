{
 "cells": [
  {
   "cell_type": "markdown",
   "metadata": {},
   "source": [
    "# 5. Properties of Mark object"
   ]
  },
  {
   "attachments": {},
   "cell_type": "markdown",
   "metadata": {},
   "source": [
    "\n",
    "\n",
    "## Coordinate properties\n",
    "\n",
    "### x, y, xmin, xmax, ymin, ymax"
   ]
  },
  {
   "attachments": {},
   "cell_type": "markdown",
   "metadata": {},
   "source": [
    "Coordinate properties determine where a mark is drawn on a plot.\n",
    "\n",
    "x: horizontal position\n",
    "\n",
    "y: vertical position\n",
    "\n",
    "Others may also use a 'baseline' parameter to show a span. The layer's 'orient' parameter determines how this works."
   ]
  },
  {
   "attachments": {},
   "cell_type": "markdown",
   "metadata": {},
   "source": [
    "If a variable does not contain numeric data, its scale will apply a conversion so that data can be drawn on a screen. Fore instance, 'Nominal' scales assign an integer index to each distinct category, and 'Temporal' scales represent dates as the number of days from a reference epoch.\n",
    "\n",
    "A Continuous scale can also apply a nonlinear transform between data values and spatial positions."
   ]
  },
  {
   "attachments": {},
   "cell_type": "markdown",
   "metadata": {},
   "source": [
    "## Color Properties\n",
    "\n",
    "### color, fillcolor, edgecolor\n",
    "\n",
    "All marks can be given a 'color', and many distinguish between the color of the mark's 'edge' and 'fill'. Often, simply susing 'color will set both, while the more-specific properties allow further control.\n",
    "\n",
    "When the color property is mapped, the default palette depends on the type of scale. Nominal scales use discrete, unordered hues, while continuous scales use a sequential gradient.\n",
    "\n",
    "Color scales are parameterized by the name of a pllette. \n",
    " - some palette names can include parameters including simple gradients or the cubehelix system\n",
    "\n",
    "Continuous scales can also be parameterized by a tuple of colors that the scale should interpolate between.\n",
    "\n",
    "Individual colors may be specified in a wide range of formats. \n",
    "\n",
    " - current color cycle\n",
    " - single0letter shorthands\n",
    " - grayscale values\n",
    " - RGB hex codes\n",
    " - X11 color names\n",
    " - XKCD color survey "
   ]
  },
  {
   "attachments": {},
   "cell_type": "markdown",
   "metadata": {},
   "source": [
    "### alpha, fillalpha, edgealpha\n",
    "\n",
    "The 'alpha property determines the mark's opacity. Lowering the alpha can be helpful for representing density in the case of overplotting.\n",
    "\n",
    "Mapping the 'alpha' property can also be useful even when marks do not overlap because it conveys a sens of importance and can be combined with a color scale to represent two variables. Moreover, colors with lower alpha appear less saturated, which can improve the appearance of larger filled marks.\n",
    "\n",
    "As with 'color', some marks define separate 'edgealpha' and 'fillalpha' properties for additional control."
   ]
  }
 ],
 "metadata": {
  "kernelspec": {
   "display_name": "base",
   "language": "python",
   "name": "python3"
  },
  "language_info": {
   "name": "python",
   "version": "3.9.13"
  },
  "orig_nbformat": 4
 },
 "nbformat": 4,
 "nbformat_minor": 2
}
