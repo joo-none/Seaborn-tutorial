{
 "cells": [
  {
   "attachments": {},
   "cell_type": "markdown",
   "metadata": {},
   "source": [
    "## 5-4. Style properties"
   ]
  },
  {
   "attachments": {},
   "cell_type": "markdown",
   "metadata": {},
   "source": [
    "### fill\n",
    "\n",
    "The 'fill' property is relevant to marks with a distinction between the edge and interior and determines whether the interior is visible. It is a boolean state: 'fill' can be set only to 'True' or 'False':"
   ]
  },
  {
   "attachments": {},
   "cell_type": "markdown",
   "metadata": {},
   "source": [
    "### Marker\n",
    "\n",
    "The 'marker' property is relevant for dot makrs and some line marks. The API for specifying markers is very flexible, as detailed in the matplotlib API docs: 'matplotlib.markers.\n",
    "\n",
    "Marker\n",
    " - a number of simple string codes\n",
    " - tuple\n",
    " - if no scale provided, the plot will generate a suitbly large set of unique markers"
   ]
  },
  {
   "attachments": {},
   "cell_type": "markdown",
   "metadata": {},
   "source": [
    "## linestyle, edgestyle\n",
    "\n",
    "The 'linestyle' property is relevant to line marks, and the 'edgestyle' property is relevant to a number of marks with 'edges'. Both properties determine the 'dashing' of a line in terms of on-off segments.\n",
    "\n",
    "Dashes can be specified with a small number of shorthand codes or programatically using tuples. In the tuple specification, the unit is equal to the linewidth."
   ]
  },
  {
   "attachments": {},
   "cell_type": "markdown",
   "metadata": {},
   "source": [
    "## 5-5. Size properties\n",
    "\n",
    "### pointsize\n",
    "\n",
    " - relevant to dot marks and to line marks that can show markers at individual data points\n",
    " - the units correspond to the diameter of the mark in points\n",
    " - the 'pointsize' scales with the square root of the data by default so that magnitude is represented by diameter rather than area"
   ]
  },
  {
   "attachments": {},
   "cell_type": "markdown",
   "metadata": {},
   "source": [
    "### linewidth\n",
    "\n",
    " - relevant to line marks\n",
    " - determines their thickness\n",
    " - the value should be non-negative and has point units"
   ]
  },
  {
   "attachments": {},
   "cell_type": "markdown",
   "metadata": {},
   "source": [
    "### edgewidth\n",
    "\n",
    " - is akin to 'linewidth' but applies to marks with an edge/fill rather than to lines\n",
    " - has a different default range when used in a scale"
   ]
  },
  {
   "attachments": {},
   "cell_type": "markdown",
   "metadata": {},
   "source": [
    "### stroke\n",
    "\n",
    " - is akin to 'edgewidth but applies when a dot mark is defined by its stroke rather than its fill\n",
    " - has a slightly different default scale range, but otherwise behaves similarly"
   ]
  },
  {
   "cell_type": "code",
   "execution_count": null,
   "metadata": {},
   "outputs": [],
   "source": []
  },
  {
   "cell_type": "code",
   "execution_count": null,
   "metadata": {},
   "outputs": [],
   "source": []
  },
  {
   "cell_type": "code",
   "execution_count": null,
   "metadata": {},
   "outputs": [],
   "source": []
  },
  {
   "cell_type": "code",
   "execution_count": null,
   "metadata": {},
   "outputs": [],
   "source": []
  },
  {
   "cell_type": "code",
   "execution_count": null,
   "metadata": {},
   "outputs": [],
   "source": []
  },
  {
   "cell_type": "code",
   "execution_count": null,
   "metadata": {},
   "outputs": [],
   "source": []
  }
 ],
 "metadata": {
  "kernelspec": {
   "display_name": "base",
   "language": "python",
   "name": "python3"
  },
  "language_info": {
   "name": "python",
   "version": "3.9.13"
  },
  "orig_nbformat": 4
 },
 "nbformat": 4,
 "nbformat_minor": 2
}
