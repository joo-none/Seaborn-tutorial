{
 "cells": [
  {
   "attachments": {},
   "cell_type": "markdown",
   "metadata": {},
   "source": [
    "# 9. Statistical estimation and error bars"
   ]
  },
  {
   "attachments": {},
   "cell_type": "markdown",
   "metadata": {},
   "source": [
    "데이터 시각화에는 여러 데이터를 평균, 중앙값 등 요약 통계로 축소 집계 또는 추정 하는 단계가 포함된다. 요약 통계를 표시할 때에는 일반적으로 오차 막대를 추가하여 요약이 기초 데이터 요소를 얼마나 잘 나타내는지에 대한 시각적 정보를 제공하는 것이 적절하다.\n",
    "\n",
    "요약 통계와 오차 막대를 자동으로 계산하는 여러 함수가 있다. 이번 챕터는 오차 막대에 표시되는 내용을 제어하는 방법과 각 옵션들의 특징을 포함하고 있다. \n",
    "\n",
    "중심 경향 추정치 주변의 오차 막대는 '추정치에 대한 불확실성 범위' 또는 '추정치 주변 기초 데이터의 분포'라는 두 가지 사항 중 하나를 나타낼 수 있다. 이러한 측정값을 서로 관련이 있다. 동일한 표본 크기가 주어지면 데이터의 분포가 클수록 추정치의 불확실성이 더 커진다. 또한 표본 크기가 커지면 불확실성은 감소하는 반면, 분포는 그렇지 않다.\n",
    "\n",
    "Seaborn에서 오차 막대를 표현하는 두 가지 방법\n",
    "\n",
    "1. Parametric: 분포의 모양에 대한 가정에 의존하는 공식을 사용\n",
    " - 크기 매개변수: 오차의 통계적 정의를 곱한 스칼라 요소\n",
    "\n",
    "2. Non-parametric: 사용자가 제공한 데이터만 사용\n",
    " - 크기 매개변수: 백분위수 너비\n"
   ]
  },
  {
   "cell_type": "code",
   "execution_count": 8,
   "metadata": {},
   "outputs": [],
   "source": [
    "import numpy as np\n",
    "import matplotlib.pyplot as plt\n",
    "import seaborn as sns"
   ]
  },
  {
   "cell_type": "code",
   "execution_count": 9,
   "metadata": {},
   "outputs": [],
   "source": [
    "def plot_errorbars(arg, **kws):\n",
    "    np.random.seed(sum(map(ord, \"error_bars\")))\n",
    "    x = np.random.normal(0, 1, 100)\n",
    "    f, axs = plt.subplots(2, figsize=(7, 2), sharex=True, layout=\"tight\")\n",
    "    sns.pointplot(x=x, errorbar=arg, **kws, capsize=.3, ax=axs[0])\n",
    "    sns.stripplot(x=x, jitter=.3, ax=axs[1])"
   ]
  },
  {
   "attachments": {},
   "cell_type": "markdown",
   "metadata": {},
   "source": [
    "## Measures of data spread\n",
    "\n",
    "boxplot()에서 오차막대는 5개 이상의 숫자를 사용하고, violinplot()에서는 복잡한 알고리즘을 사용하는 3개의 숫자를 사용하여 분포를 간결하게 표현"
   ]
  },
  {
   "attachments": {},
   "cell_type": "markdown",
   "metadata": {},
   "source": [
    "## Standard deviation error bars\n",
    "\n",
    "각 데이터에서 표본 평균까지의 거리인 표준 편차를 나타낸 막대\n",
    "\n",
    "항상 추정치를 중심으로 대칭을 이룸"
   ]
  },
  {
   "cell_type": "code",
   "execution_count": 12,
   "metadata": {},
   "outputs": [
    {
     "data": {
      "image/png": "[encoded data removed]",
      "text/plain": [
       "<Figure size 700x200 with 2 Axes>"
      ]
     },
     "metadata": {},
     "output_type": "display_data"
    }
   ],
   "source": [
    "plot_errorbars(\"sd\")"
   ]
  },
  {
   "attachments": {},
   "cell_type": "markdown",
   "metadata": {},
   "source": [
    "## Percentile interval error bars\n",
    "\n",
    "데이터가 속하는 백분위수 구간을 나타냄"
   ]
  },
  {
   "cell_type": "code",
   "execution_count": 13,
   "metadata": {},
   "outputs": [
    {
     "data": {
      "image/png": "[encoded data removed]",
      "text/plain": [
       "<Figure size 700x200 with 2 Axes>"
      ]
     },
     "metadata": {},
     "output_type": "display_data"
    }
   ],
   "source": [
    "plot_errorbars((\"pi\", 50))"
   ]
  }
 ],
 "metadata": {
  "kernelspec": {
   "display_name": "base",
   "language": "python",
   "name": "python3"
  },
  "language_info": {
   "codemirror_mode": {
    "name": "ipython",
    "version": 3
   },
   "file_extension": ".py",
   "mimetype": "text/x-python",
   "name": "python",
   "nbconvert_exporter": "python",
   "pygments_lexer": "ipython3",
   "version": "3.9.13"
  },
  "orig_nbformat": 4
 },
 "nbformat": 4,
 "nbformat_minor": 2
}
